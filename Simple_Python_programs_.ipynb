{
  "nbformat": 4,
  "nbformat_minor": 0,
  "metadata": {
    "colab": {
      "name": "Simple Python programs .ipynb",
      "provenance": [],
      "collapsed_sections": [],
      "authorship_tag": "ABX9TyOjUsQQn1zREyWsttX5GdSR",
      "include_colab_link": true
    },
    "kernelspec": {
      "name": "python3",
      "display_name": "Python 3"
    },
    "language_info": {
      "name": "python"
    }
  },
  "cells": [
    {
      "cell_type": "markdown",
      "metadata": {
        "id": "view-in-github",
        "colab_type": "text"
      },
      "source": [
        "<a href=\"https://colab.research.google.com/github/Sundar228/Basic-ML/blob/main/Simple_Python_programs_.ipynb\" target=\"_parent\"><img src=\"https://colab.research.google.com/assets/colab-badge.svg\" alt=\"Open In Colab\"/></a>"
      ]
    },
    {
      "cell_type": "code",
      "metadata": {
        "id": "wpfxAfUtpUO6"
      },
      "source": [
        ""
      ],
      "execution_count": null,
      "outputs": []
    },
    {
      "cell_type": "markdown",
      "metadata": {
        "id": "mjPfZTTwpVDH"
      },
      "source": [
        "#Addition of Two Numbers\n"
      ]
    },
    {
      "cell_type": "code",
      "metadata": {
        "colab": {
          "base_uri": "https://localhost:8080/"
        },
        "id": "Aq0mpG7IpeQS",
        "outputId": "e5c43efb-4259-403e-b74a-6c5573563267"
      },
      "source": [
        "a=int(input())\n",
        "b=int(input())\n",
        "c=a+b\n",
        "print(c)"
      ],
      "execution_count": 14,
      "outputs": [
        {
          "output_type": "stream",
          "text": [
            "30\n",
            "20\n",
            "50\n"
          ],
          "name": "stdout"
        }
      ]
    },
    {
      "cell_type": "markdown",
      "metadata": {
        "id": "Ne6xvqkoqJaM"
      },
      "source": [
        "#Even Number or Odd Number"
      ]
    },
    {
      "cell_type": "code",
      "metadata": {
        "colab": {
          "base_uri": "https://localhost:8080/"
        },
        "id": "EmAxJ2PFqQVK",
        "outputId": "2aebb07d-1d22-48af-8b9d-545397e5b2bb"
      },
      "source": [
        "a=int(input())\n",
        "if a%2==0:\n",
        "  print('Even Number')\n",
        "else:\n",
        "  print('Odd Number')"
      ],
      "execution_count": 16,
      "outputs": [
        {
          "output_type": "stream",
          "text": [
            "6\n",
            "Even Number\n"
          ],
          "name": "stdout"
        }
      ]
    },
    {
      "cell_type": "markdown",
      "metadata": {
        "id": "9aHoRr0yql42"
      },
      "source": [
        "#Factorial of a number\n"
      ]
    },
    {
      "cell_type": "code",
      "metadata": {
        "colab": {
          "base_uri": "https://localhost:8080/"
        },
        "id": "4prSrbPoq8h_",
        "outputId": "5010e949-5ed0-45da-d7b7-8e2ad8c8298f"
      },
      "source": [
        "a=int(input())\n",
        "c=1\n",
        "for i in range(1,a+1):\n",
        "  c=c*i\n",
        "print(c)\n",
        "\n"
      ],
      "execution_count": 12,
      "outputs": [
        {
          "output_type": "stream",
          "text": [
            "4\n",
            "24\n"
          ],
          "name": "stdout"
        }
      ]
    }
  ]
}